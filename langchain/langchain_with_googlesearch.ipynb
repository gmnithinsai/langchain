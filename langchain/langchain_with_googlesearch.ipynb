{
 "cells": [
  {
   "cell_type": "markdown",
   "id": "9dafc44a-cf74-422b-a355-815dd61333ec",
   "metadata": {},
   "source": [
    "## Integrating Google Search with LangChain for Intelligent Query Handling"
   ]
  },
  {
   "cell_type": "code",
   "execution_count": 74,
   "id": "cdaa4fe1",
   "metadata": {},
   "outputs": [],
   "source": [
    "import os\n",
    "import re\n",
    "from langchain.docstore.document import Document\n",
    "from langchain import hub\n",
    "from langchain_community.utilities import GoogleSearchAPIWrapper\n",
    "from langchain_community.document_loaders import UnstructuredURLLoader\n",
    "from langchain.text_splitter import RecursiveCharacterTextSplitter\n",
    "from langchain.tools.retriever import create_retriever_tool\n",
    "from langchain.agents import AgentExecutor, create_openai_tools_agent\n",
    "from langchain_openai import ChatOpenAI,OpenAIEmbeddings\n",
    "from langchain_community.vectorstores import FAISS"
   ]
  },
  {
   "cell_type": "code",
   "execution_count": 64,
   "id": "4f32ba47-81b3-4f7e-b485-d4400003d311",
   "metadata": {},
   "outputs": [],
   "source": [
    "\n",
    "llm = ChatOpenAI(\n",
    "    model=\"gpt-3.5-turbo\",\n",
    "    temperature=0.7,\n",
    "    max_tokens=None,\n",
    "    timeout=None,\n",
    "    max_retries=2,\n",
    "  )"
   ]
  },
  {
   "cell_type": "code",
   "execution_count": 49,
   "id": "4111c44d-1184-4c84-a5c4-3f21427e77a2",
   "metadata": {},
   "outputs": [],
   "source": [
    "os.environ[\"GOOGLE_CSE_ID\"] = \"\"\n",
    "os.environ[\"GOOGLE_API_KEY\"] = \"\"\n",
    "os.environ[\"OPENAI_API_KEY\"] = \"\"\n",
    " "
   ]
  },
  {
   "cell_type": "code",
   "execution_count": 84,
   "id": "b983367a-9f1a-47b5-8b01-b96cb69eb024",
   "metadata": {},
   "outputs": [],
   "source": [
    "prompt = hub.pull(\"hwchase17/openai-tools-agent\")   "
   ]
  },
  {
   "cell_type": "code",
   "execution_count": 87,
   "id": "8fa77d42-f5e6-4b74-8b98-4a56740b068e",
   "metadata": {},
   "outputs": [
    {
     "data": {
      "text/plain": [
       "ChatPromptTemplate(input_variables=['agent_scratchpad', 'input'], input_types={'chat_history': typing.List[typing.Union[langchain_core.messages.ai.AIMessage, langchain_core.messages.human.HumanMessage, langchain_core.messages.chat.ChatMessage, langchain_core.messages.system.SystemMessage, langchain_core.messages.function.FunctionMessage, langchain_core.messages.tool.ToolMessage]], 'agent_scratchpad': typing.List[typing.Union[langchain_core.messages.ai.AIMessage, langchain_core.messages.human.HumanMessage, langchain_core.messages.chat.ChatMessage, langchain_core.messages.system.SystemMessage, langchain_core.messages.function.FunctionMessage, langchain_core.messages.tool.ToolMessage]]}, metadata={'lc_hub_owner': 'hwchase17', 'lc_hub_repo': 'openai-tools-agent', 'lc_hub_commit_hash': 'c18672812789a3b9697656dd539edf0120285dcae36396d0b548ae42a4ed66f5'}, messages=[SystemMessagePromptTemplate(prompt=PromptTemplate(input_variables=[], template='You are a helpful assistant')), MessagesPlaceholder(variable_name='chat_history', optional=True), HumanMessagePromptTemplate(prompt=PromptTemplate(input_variables=['input'], template='{input}')), MessagesPlaceholder(variable_name='agent_scratchpad')])"
      ]
     },
     "execution_count": 87,
     "metadata": {},
     "output_type": "execute_result"
    }
   ],
   "source": [
    "prompt"
   ]
  },
  {
   "cell_type": "code",
   "execution_count": 51,
   "id": "bb1adbf2-a689-41bc-963c-0d7ec3809051",
   "metadata": {},
   "outputs": [],
   "source": [
    "openai_embeddings = OpenAIEmbeddings()"
   ]
  },
  {
   "cell_type": "code",
   "execution_count": 7,
   "id": "7310c874-0c6c-4d82-b052-b47fe519d9a3",
   "metadata": {},
   "outputs": [],
   "source": [
    "def clean_text(raw_text):\n",
    "    cleaned_text = re.sub(r'\\n+', ' ', raw_text)\n",
    "    cleaned_text = re.sub(r'\\s+', ' ', cleaned_text)\n",
    "    cleaned_text = ''.join(char for char in raw_text if ord(char) < 128)\n",
    "    cleaned_text = re.sub(r'\\s+', ' ', cleaned_text)\n",
    "    return cleaned_text.strip()\n"
   ]
  },
  {
   "cell_type": "code",
   "execution_count": 10,
   "id": "c6416f59-cff0-4aab-8710-eda9e645f7ba",
   "metadata": {},
   "outputs": [],
   "source": [
    "search = GoogleSearchAPIWrapper(k = 6)"
   ]
  },
  {
   "cell_type": "code",
   "execution_count": 15,
   "id": "d2a004b0-dbc9-43fd-a226-07b6804d3794",
   "metadata": {},
   "outputs": [],
   "source": [
    "def top5_results(query):\n",
    "    return search.results(query, 6)\n"
   ]
  },
  {
   "cell_type": "code",
   "execution_count": 83,
   "id": "1ca36e74-056b-4509-a30b-240a268670e4",
   "metadata": {},
   "outputs": [],
   "source": [
    " \n",
    "def get_urls_of_results(results):\n",
    "    urls = []\n",
    "    for each_result in results:\n",
    "        urls.append(each_result['link'])\n",
    "    return urls\n"
   ]
  },
  {
   "cell_type": "code",
   "execution_count": 71,
   "id": "9dd02c71-4d9c-47b6-9266-85a92aa0125f",
   "metadata": {},
   "outputs": [],
   "source": [
    "def get_page_contents_from_url(urls):\n",
    "    page_contents = []\n",
    "    loader = UnstructuredURLLoader(urls=urls)\n",
    "    data = loader.load()\n",
    "    \n",
    "    for each_data in data:\n",
    "        page_contents.append(each_data.page_content)\n",
    "    return page_contents\n",
    "\n"
   ]
  },
  {
   "cell_type": "code",
   "execution_count": 73,
   "id": "e2f68177-9a6d-4965-880e-0d109bbf1d1d",
   "metadata": {},
   "outputs": [],
   "source": [
    "def get_documents(page_contents):\n",
    "    cleaned_text = \"\"    \n",
    "    for each_page_content in page_contents:\n",
    "        cleaned_text += clean_text(each_page_content)\n",
    "     \n",
    "    documents = [Document(page_content = cleaned_text)]\n",
    "    text_splitter = RecursiveCharacterTextSplitter(chunk_size=500, chunk_overlap=80)\n",
    "    documents = text_splitter.split_documents(documents)\n",
    "    return documents\n"
   ]
  },
  {
   "cell_type": "code",
   "execution_count": 75,
   "id": "0acfcc42-fbd9-4bef-acbe-95565b0dfe20",
   "metadata": {},
   "outputs": [],
   "source": [
    "def retriever_tool(documents):\n",
    "    retriever = FAISS.from_documents(documents, openai_embeddings).as_retriever(\n",
    "     search_kwargs={\"k\": 7}\n",
    " )\n",
    "    tool = create_retriever_tool(\n",
    "         retriever,        \n",
    "         \"fetch_data_from_documents\",\n",
    "         \"\"\"your task is to retrieve information from the provided documents relevant to the queries I ask. Retrieve the most relevant information from the entire corpus of documents.\"\"\",\n",
    "     )\n",
    "    tools = [tool]\n",
    "    return tools\n",
    "    \n",
    "    \n",
    "    "
   ]
  },
  {
   "cell_type": "code",
   "execution_count": 78,
   "id": "51e48685-85a4-491e-99f2-bdd60bf10bea",
   "metadata": {},
   "outputs": [],
   "source": [
    "def agent_executor(tools):\n",
    "\n",
    "    agent = create_openai_tools_agent(llm, tools, prompt)\n",
    "        \n",
    "    executor = AgentExecutor.from_agent_and_tools(\n",
    "             agent=agent,\n",
    "             tools=tools,\n",
    "             return_intermediate_steps=True,\n",
    "             handle_parsing_errors=True,\n",
    "         )\n",
    "    return executor\n"
   ]
  },
  {
   "cell_type": "code",
   "execution_count": 96,
   "id": "9b4e9335-fc67-464a-9336-2e2f2e662750",
   "metadata": {},
   "outputs": [],
   "source": [
    "query = \"what are the teams qualified for t20 world cup\"\n",
    "\n",
    "results = top5_results(query)\n",
    "urls = get_urls_of_results(results)\n",
    "page_contents = get_page_contents_from_url(urls)\n",
    "documents = get_documents(page_contents)\n",
    "tools = retriever_tool(documents)\n",
    "executor = agent_executor(tools)"
   ]
  },
  {
   "cell_type": "code",
   "execution_count": 97,
   "id": "c33685b0-3bcc-429a-a9d3-13bf423f73e4",
   "metadata": {},
   "outputs": [],
   "source": [
    "result = executor.invoke({\"input\": query})    "
   ]
  },
  {
   "cell_type": "code",
   "execution_count": 82,
   "id": "433c38ec-4ef6-4213-ba39-a00b7271e7d2",
   "metadata": {},
   "outputs": [
    {
     "data": {
      "text/plain": [
       "'The teams that have qualified for the T20 World Cup Super 8 stage are India, Australia, Afghanistan, South Africa, USA, and West Indies.'"
      ]
     },
     "execution_count": 82,
     "metadata": {},
     "output_type": "execute_result"
    }
   ],
   "source": [
    "result['output']"
   ]
  },
  {
   "cell_type": "code",
   "execution_count": null,
   "id": "18840c00-0607-40d3-a9ba-c26836029aa7",
   "metadata": {},
   "outputs": [],
   "source": [
    "for each in prompt[0]:\n",
    "    each[-1].template = \"You are a helpful AI assistant, your task is generate descriptive answers for the given query from the provided documents\"\n",
    "    break"
   ]
  },
  {
   "cell_type": "code",
   "execution_count": 98,
   "id": "20ba24a8-90e8-48e3-aece-bc4e7a9a490f",
   "metadata": {
    "scrolled": true
   },
   "outputs": [
    {
     "data": {
      "text/plain": [
       "'The teams that have qualified for the T20 World Cup Super 8 stage are India, Australia, Afghanistan, South Africa, USA, and West Indies. These teams secured their places in the Super 8 by finishing in the top two positions in their respective groups during the tournament.'"
      ]
     },
     "execution_count": 98,
     "metadata": {},
     "output_type": "execute_result"
    }
   ],
   "source": [
    "result['output']"
   ]
  },
  {
   "cell_type": "code",
   "execution_count": null,
   "id": "1ce14d18-2aca-48b3-8f1d-7ae7df104da8",
   "metadata": {},
   "outputs": [],
   "source": []
  }
 ],
 "metadata": {
  "kernelspec": {
   "display_name": "Python 3 (ipykernel)",
   "language": "python",
   "name": "python3"
  },
  "language_info": {
   "codemirror_mode": {
    "name": "ipython",
    "version": 3
   },
   "file_extension": ".py",
   "mimetype": "text/x-python",
   "name": "python",
   "nbconvert_exporter": "python",
   "pygments_lexer": "ipython3",
   "version": "3.12.3"
  }
 },
 "nbformat": 4,
 "nbformat_minor": 5
}
